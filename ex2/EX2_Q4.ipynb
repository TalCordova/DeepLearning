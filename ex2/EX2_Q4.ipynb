{
 "cells": [
  {
   "cell_type": "markdown",
   "source": [
    "## Exercise 2 - Question 4"
   ],
   "metadata": {
    "collapsed": false
   }
  },
  {
   "cell_type": "markdown",
   "source": [
    "### Import packages"
   ],
   "metadata": {
    "collapsed": false
   }
  },
  {
   "cell_type": "code",
   "execution_count": 1,
   "outputs": [],
   "source": [
    "import numpy as np\n",
    "import pandas as pd\n",
    "import torch.nn as nn\n",
    "import torch\n",
    "from torch.utils.data import DataLoader\n",
    "from torch.utils.data import Dataset\n"
   ],
   "metadata": {
    "collapsed": false,
    "pycharm": {
     "name": "#%%\n"
    }
   }
  },
  {
   "cell_type": "markdown",
   "source": [
    "### Generate Dataset"
   ],
   "metadata": {
    "collapsed": false
   }
  },
  {
   "cell_type": "code",
   "execution_count": 2,
   "outputs": [],
   "source": [
    "np.random.seed(2022)\n",
    "A = np.array([[np.sqrt(99)/10, -0.1], [0.1, np.sqrt(99)/10]])\n",
    "B = np.array([[np.sqrt(2)/2, -1], [np.sqrt(2)/2, np.sqrt(2)/2]])\n",
    "Sigma_1 = 0.01\n",
    "Sigma_2 = 0.2\n",
    "\n",
    "init_state = np.array([1, 0])\n",
    "process_len = 2000\n",
    "\n",
    "# generate the data with Kalman filter\n",
    "X = []\n",
    "Y = []\n",
    "for i in range(process_len):\n",
    "    X.append(np.matmul(A, init_state) + np.random.normal(0, Sigma_1**2))\n",
    "    Y.append(np.matmul(B, X[i]) + np.random.normal(0, Sigma_2 ** 2))\n",
    "    init_state = X[i]\n",
    "\n",
    "# split train & test\n",
    "train_labels = np.array(X[:1000])\n",
    "test_labels = np.array(X[1000:])\n",
    "train_data = np.array(Y[:1000])\n",
    "test_data = np.array(Y[1000:])"
   ],
   "metadata": {
    "collapsed": false,
    "pycharm": {
     "name": "#%%\n"
    }
   }
  },
  {
   "cell_type": "markdown",
   "source": [
    "### Build Models"
   ],
   "metadata": {
    "collapsed": false
   }
  },
  {
   "cell_type": "code",
   "execution_count": 3,
   "outputs": [],
   "source": [
    "class lstm(nn.Module):\n",
    "    def __init__(self, input_size=2, hidden_size=2):\n",
    "        super().__init__()\n",
    "        hidden_state = torch.randn(1, 1, hidden_size)\n",
    "        cell_state = torch.randn(1, 1, hidden_size)\n",
    "        self.hidden = (hidden_state, cell_state)\n",
    "        self.lstm = nn.LSTM(input_size=input_size, hidden_size=hidden_size, batch_first=True)\n",
    "    def forward(self, input):\n",
    "        lstm_out, _ = self.lstm(input)\n",
    "        return lstm_out[:, -1, :]\n",
    "\n",
    "class KalmanDataset(Dataset):\n",
    "    def __init__(self, data, labels):\n",
    "        self.train_data = torch.Tensor(np.expand_dims(data, axis=1))\n",
    "        self.train_labels = torch.Tensor(labels)\n",
    "\n",
    "    def __len__(self):\n",
    "        return len(self.train_labels)\n",
    "\n",
    "    def __getitem__(self, idx):\n",
    "        return self.train_data[idx], self.train_labels[idx]"
   ],
   "metadata": {
    "collapsed": false,
    "pycharm": {
     "name": "#%%\n"
    }
   }
  },
  {
   "cell_type": "markdown",
   "source": [
    "### Functions"
   ],
   "metadata": {
    "collapsed": false
   }
  },
  {
   "cell_type": "code",
   "execution_count": 4,
   "outputs": [],
   "source": [
    "def train_loop(dataloader, model, loss_fn, optimizer):\n",
    "    for X, y in dataloader:\n",
    "        # Compute prediction and loss\n",
    "        pred = model(X)\n",
    "        loss = loss_fn(pred, y)\n",
    "\n",
    "        # Backpropagation\n",
    "        optimizer.zero_grad()\n",
    "        loss.backward()\n",
    "        optimizer.step()\n",
    "\n",
    "def test_loop(dataloader, model, loss_fn):\n",
    "    num_batches = len(dataloader)\n",
    "    test_loss = 0\n",
    "\n",
    "    with torch.no_grad():\n",
    "        for X, y in dataloader:\n",
    "            pred = model(X)\n",
    "            test_loss += loss_fn(pred, y).item()\n",
    "\n",
    "    test_loss /= num_batches\n",
    "    print(f\"MSE: {(test_loss):>0.1f}\\n\")\n",
    "    return test_loss"
   ],
   "metadata": {
    "collapsed": false,
    "pycharm": {
     "name": "#%%\n"
    }
   }
  },
  {
   "cell_type": "markdown",
   "source": [
    "### 4-A"
   ],
   "metadata": {
    "collapsed": false
   }
  },
  {
   "cell_type": "code",
   "execution_count": 5,
   "outputs": [
    {
     "name": "stdout",
     "output_type": "stream",
     "text": [
      "Epoch 1\n",
      "-------------------------------\n",
      "MSE: 0.4\n",
      "\n",
      "Epoch 2\n",
      "-------------------------------\n",
      "MSE: 0.3\n",
      "\n",
      "Epoch 3\n",
      "-------------------------------\n",
      "MSE: 0.3\n",
      "\n",
      "Epoch 4\n",
      "-------------------------------\n",
      "MSE: 0.2\n",
      "\n",
      "Epoch 5\n",
      "-------------------------------\n",
      "MSE: 0.2\n",
      "\n",
      "Epoch 6\n",
      "-------------------------------\n",
      "MSE: 0.2\n",
      "\n",
      "Epoch 7\n",
      "-------------------------------\n",
      "MSE: 0.2\n",
      "\n",
      "Epoch 8\n",
      "-------------------------------\n",
      "MSE: 0.2\n",
      "\n",
      "Epoch 9\n",
      "-------------------------------\n",
      "MSE: 0.2\n",
      "\n",
      "Epoch 10\n",
      "-------------------------------\n",
      "MSE: 0.2\n",
      "\n",
      "Epoch 11\n",
      "-------------------------------\n",
      "MSE: 0.2\n",
      "\n",
      "Epoch 12\n",
      "-------------------------------\n",
      "MSE: 0.2\n",
      "\n",
      "Epoch 13\n",
      "-------------------------------\n",
      "MSE: 0.2\n",
      "\n",
      "Epoch 14\n",
      "-------------------------------\n",
      "MSE: 0.2\n",
      "\n",
      "Epoch 15\n",
      "-------------------------------\n",
      "MSE: 0.1\n",
      "\n",
      "Epoch 16\n",
      "-------------------------------\n",
      "MSE: 0.1\n",
      "\n",
      "Epoch 17\n",
      "-------------------------------\n",
      "MSE: 0.1\n",
      "\n",
      "Epoch 18\n",
      "-------------------------------\n",
      "MSE: 0.1\n",
      "\n",
      "Epoch 19\n",
      "-------------------------------\n",
      "MSE: 0.1\n",
      "\n",
      "Epoch 20\n",
      "-------------------------------\n",
      "MSE: 0.1\n",
      "\n"
     ]
    }
   ],
   "source": [
    "# hyper parameters\n",
    "learning_rate = 1e-2\n",
    "batch_size = 64\n",
    "epochs = 20\n",
    "\n",
    "# build dataset\n",
    "\n",
    "trainDatast = KalmanDataset(train_data, train_labels)\n",
    "testDatast = KalmanDataset(test_data, test_labels)\n",
    "\n",
    "# data loaders\n",
    "train_dataloader = DataLoader(trainDatast, batch_size=64, shuffle=True)\n",
    "test_dataloader = DataLoader(testDatast, batch_size=64, shuffle=True)\n",
    "\n",
    "\n",
    "loss = nn.MSELoss()\n",
    "model = lstm()\n",
    "optimizer = torch.optim.Adam(model.parameters(), lr=learning_rate)\n",
    "for t in range(epochs):\n",
    "    print(f\"Epoch {t + 1}\\n-------------------------------\")\n",
    "    train_loop(train_dataloader, model, loss, optimizer)\n",
    "    test_loss = test_loop(test_dataloader, model, loss)"
   ],
   "metadata": {
    "collapsed": false,
    "pycharm": {
     "name": "#%%\n"
    }
   }
  },
  {
   "cell_type": "markdown",
   "source": [
    "### 4B - Predict next observation"
   ],
   "metadata": {
    "collapsed": false
   }
  },
  {
   "cell_type": "code",
   "execution_count": 6,
   "outputs": [
    {
     "name": "stdout",
     "output_type": "stream",
     "text": [
      "The next obser[ 0.7314467  -0.40009823]\n"
     ]
    }
   ],
   "source": [
    "# B - predict the next observation\n",
    "print(f'The next obser{model(torch.Tensor(test_data[0].reshape(1, 1, 2))).detach().numpy()[0]}')\n"
   ],
   "metadata": {
    "collapsed": false,
    "pycharm": {
     "name": "#%%\n"
    }
   }
  }
 ],
 "metadata": {
  "kernelspec": {
   "display_name": "Python 3",
   "language": "python",
   "name": "python3"
  },
  "language_info": {
   "codemirror_mode": {
    "name": "ipython",
    "version": 2
   },
   "file_extension": ".py",
   "mimetype": "text/x-python",
   "name": "python",
   "nbconvert_exporter": "python",
   "pygments_lexer": "ipython2",
   "version": "2.7.6"
  }
 },
 "nbformat": 4,
 "nbformat_minor": 0
}